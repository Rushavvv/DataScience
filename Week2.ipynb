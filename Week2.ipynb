{
 "cells": [
  {
   "cell_type": "code",
   "execution_count": 8,
   "id": "32b78a0c-ff5f-4ab6-82c8-68231f84c273",
   "metadata": {},
   "outputs": [
    {
     "name": "stdout",
     "output_type": "stream",
     "text": [
      "Rushav\n",
      "Rushav\n",
      "Rushav\n"
     ]
    }
   ],
   "source": [
    "for i in range(4): \n",
    "    print('Rushav')\n",
    "    if i == 2: \n",
    "        break\n",
    "else: \n",
    "    print('Loop successfull')\n",
    "    "
   ]
  },
  {
   "cell_type": "code",
   "execution_count": 38,
   "id": "a41517c2-f8fe-46c6-be3d-2f4df2a40095",
   "metadata": {},
   "outputs": [
    {
     "name": "stdout",
     "output_type": "stream",
     "text": [
      " 0 : Ram has scored 30 in Software Engineering and 50 in Applied Data Science\n",
      " 1 : Shyam has scored 50 in Software Engineering and 78 in Applied Data Science\n",
      " 2 : Hari has scored 40 in Software Engineering and 51 in Applied Data Science\n"
     ]
    }
   ],
   "source": [
    "name = [\"Ram\",\"Shyam\",\"Hari\"]\n",
    "se = [30,50,40]\n",
    "ads = [50,78,51]\n",
    "for i,(a,b,c) in enumerate(zip(name,se,ads)):\n",
    "    print(f\" {i} : {a} has scored {b} in Software Engineering and {c} in Applied Data Science\")\n",
    "    if a == \"harry\":\n",
    "        print(f\"harry in {i}\")"
   ]
  },
  {
   "cell_type": "code",
   "execution_count": 12,
   "id": "70bb8254-2666-4b0f-bca8-d734a571371a",
   "metadata": {},
   "outputs": [],
   "source": [
    "a = zip(name,salary)"
   ]
  },
  {
   "cell_type": "code",
   "execution_count": 14,
   "id": "26862bd6-c7e2-44cb-96ca-899708e361ee",
   "metadata": {},
   "outputs": [
    {
     "data": {
      "text/plain": [
       "<zip at 0x13b9aee40>"
      ]
     },
     "execution_count": 14,
     "metadata": {},
     "output_type": "execute_result"
    }
   ],
   "source": [
    "a"
   ]
  },
  {
   "cell_type": "code",
   "execution_count": 16,
   "id": "01f7c81d-6982-4a88-a363-76e880d214b8",
   "metadata": {},
   "outputs": [
    {
     "data": {
      "text/plain": [
       "[('ram', 2000), ('shyam', 3400), ('hari', 4500)]"
      ]
     },
     "execution_count": 16,
     "metadata": {},
     "output_type": "execute_result"
    }
   ],
   "source": [
    "list(a)"
   ]
  },
  {
   "cell_type": "code",
   "execution_count": 7,
   "id": "6c4b6a1e-68fe-4905-bf94-db59d8bd44cc",
   "metadata": {},
   "outputs": [
    {
     "name": "stdout",
     "output_type": "stream",
     "text": [
      "c is mid\n"
     ]
    }
   ],
   "source": [
    "a = 1 \n",
    "b = 6\n",
    "c = 5\n",
    "\n",
    "if a>b and a<c:\n",
    "    print('a is mid')\n",
    "elif a<b and a>c:\n",
    "    print('a is mid')    \n",
    "elif b>a and b < c: \n",
    "    print('b is mid')\n",
    "elif b<a and b > c: \n",
    "    print('b is mid')\n",
    "elif c > a and c < b: \n",
    "    print('c is mid')\n",
    "elif c<a and c>b:\n",
    "    print('c is mid')\n",
    "    "
   ]
  },
  {
   "cell_type": "code",
   "execution_count": 1,
   "id": "713b9130-9aaa-4c30-8884-6c95f99b15ca",
   "metadata": {},
   "outputs": [
    {
     "name": "stdin",
     "output_type": "stream",
     "text": [
      "enter number:  4\n"
     ]
    },
    {
     "name": "stdout",
     "output_type": "stream",
     "text": [
      "You win\n"
     ]
    }
   ],
   "source": [
    "def calc():\n",
    "    a = int(input('enter number: '))\n",
    "    if a % 2 == 0:\n",
    "            print('You win')\n",
    "    else: \n",
    "        calc()\n",
    "\n",
    "calc()\n",
    "    "
   ]
  },
  {
   "cell_type": "code",
   "execution_count": 13,
   "id": "eeb44ffb-2991-4868-a4bc-f058d444e5d7",
   "metadata": {},
   "outputs": [
    {
     "name": "stdout",
     "output_type": "stream",
     "text": [
      "pali\n"
     ]
    }
   ],
   "source": [
    "n = 151\n",
    "res = 0 \n",
    "t = n\n",
    "while n!=0: \n",
    "    r = n % 10\n",
    "    res = res * 10 + r\n",
    "    n = int(n/10)\n",
    "if t == res: \n",
    "    print('pali')\n",
    "else: \n",
    "    print('not pali')"
   ]
  },
  {
   "cell_type": "code",
   "execution_count": 9,
   "id": "9dbe4889-5c4a-44ba-a68a-5abb160e7946",
   "metadata": {},
   "outputs": [
    {
     "name": "stdout",
     "output_type": "stream",
     "text": [
      "arm\n"
     ]
    }
   ],
   "source": [
    "n = 153\n",
    "res = 0 \n",
    "t = n\n",
    "while n!=0: \n",
    "    r = (n % 10)**3\n",
    "    res = res + r\n",
    "    n = int(n/10)\n",
    "if t == res: \n",
    "    print('arm')\n",
    "else: \n",
    "    print('not arm')\n",
    "\n"
   ]
  },
  {
   "cell_type": "code",
   "execution_count": 15,
   "id": "bfbe85c9-9224-4bc8-aedf-094b4c7286df",
   "metadata": {},
   "outputs": [
    {
     "name": "stdout",
     "output_type": "stream",
     "text": [
      "7\n"
     ]
    }
   ],
   "source": [
    "a = 5 \n",
    "print(a^2)"
   ]
  },
  {
   "cell_type": "code",
   "execution_count": 17,
   "id": "4fb05738-2e47-4863-85fd-1472eb9be2a5",
   "metadata": {},
   "outputs": [],
   "source": [
    "a=6"
   ]
  },
  {
   "cell_type": "code",
   "execution_count": 19,
   "id": "d6f74fd0-d5cf-465a-87d4-b7333681aad8",
   "metadata": {},
   "outputs": [
    {
     "data": {
      "text/plain": [
       "5"
      ]
     },
     "execution_count": 19,
     "metadata": {},
     "output_type": "execute_result"
    }
   ],
   "source": [
    "a^3"
   ]
  },
  {
   "cell_type": "code",
   "execution_count": 7,
   "id": "2a8f199b-8c26-4c17-8965-e2f587e87509",
   "metadata": {},
   "outputs": [
    {
     "name": "stdout",
     "output_type": "stream",
     "text": [
      "[1, 1, 5, 9, 10, 12, 14, 17, 18, 18, 19, 19, 19, 20, 21, 22, 25, 25, 27, 29, 36, 38, 38, 39, 39, 39, 40, 41, 41, 43, 43, 45, 46, 46, 49, 50, 50, 50, 54, 54, 59, 59]\n"
     ]
    }
   ],
   "source": [
    "a = (19, 18, 17, 1, 21, 22, 54, 46, 25, 49,\n",
    "50, 1, 59, 39, 43, 39, 5, 9, 38, 18,\n",
    "14, 45, 54, 59, 46, 50, 29 ,12 ,19, 36,\n",
    "38, 40, 43, 41, 10 ,50 ,41, 25, 19, 39,\n",
    "27 ,20)\n",
    "\n",
    "print(sorted(a))\n"
   ]
  },
  {
   "cell_type": "code",
   "execution_count": null,
   "id": "c6794f98-44cd-4234-9bec-40c860bc5199",
   "metadata": {},
   "outputs": [],
   "source": []
  }
 ],
 "metadata": {
  "kernelspec": {
   "display_name": "Python [conda env:base] *",
   "language": "python",
   "name": "conda-base-py"
  },
  "language_info": {
   "codemirror_mode": {
    "name": "ipython",
    "version": 3
   },
   "file_extension": ".py",
   "mimetype": "text/x-python",
   "name": "python",
   "nbconvert_exporter": "python",
   "pygments_lexer": "ipython3",
   "version": "3.12.7"
  }
 },
 "nbformat": 4,
 "nbformat_minor": 5
}
