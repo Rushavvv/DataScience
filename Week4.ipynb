{
 "cells": [
  {
   "cell_type": "markdown",
   "id": "7f624cc0-3376-4c86-bf53-568f9f6396ea",
   "metadata": {},
   "source": [
    "Numpy"
   ]
  },
  {
   "cell_type": "code",
   "execution_count": 3,
   "id": "8ea474e2-f43a-46e2-b21a-283d670420ce",
   "metadata": {},
   "outputs": [],
   "source": [
    "import numpy as np"
   ]
  },
  {
   "cell_type": "code",
   "execution_count": 7,
   "id": "b26baac8-8e0f-4878-bb4a-ff148b292fd0",
   "metadata": {},
   "outputs": [
    {
     "name": "stdout",
     "output_type": "stream",
     "text": [
      "[1 2 3 4 5 6]\n"
     ]
    }
   ],
   "source": [
    "ar1 = np.array([1,2,3,4,5,6])\n",
    "print(ar1)"
   ]
  },
  {
   "cell_type": "code",
   "execution_count": 31,
   "id": "11e6a3b5-fa48-4bb0-a74c-26024684b7bf",
   "metadata": {},
   "outputs": [
    {
     "data": {
      "text/plain": [
       "array([3., 2., 1.])"
      ]
     },
     "execution_count": 31,
     "metadata": {},
     "output_type": "execute_result"
    }
   ],
   "source": [
    "np.empty(3)"
   ]
  },
  {
   "cell_type": "code",
   "execution_count": 35,
   "id": "2afc781c-8511-4bf6-b84f-20918a7c6d30",
   "metadata": {},
   "outputs": [
    {
     "data": {
      "text/plain": [
       "array([ 0,  2,  4,  6,  8, 10, 12, 14, 16, 18])"
      ]
     },
     "execution_count": 35,
     "metadata": {},
     "output_type": "execute_result"
    }
   ],
   "source": [
    "np.arange(0,20,2)"
   ]
  },
  {
   "cell_type": "code",
   "execution_count": 41,
   "id": "239a7d6f-88d1-492a-b6f7-58ea8de7595d",
   "metadata": {},
   "outputs": [
    {
     "data": {
      "text/plain": [
       "array([ 0.        ,  1.11111111,  2.22222222,  3.33333333,  4.44444444,\n",
       "        5.55555556,  6.66666667,  7.77777778,  8.88888889, 10.        ])"
      ]
     },
     "execution_count": 41,
     "metadata": {},
     "output_type": "execute_result"
    }
   ],
   "source": [
    "np.linspace(0,10,10)"
   ]
  },
  {
   "cell_type": "code",
   "execution_count": 53,
   "id": "38c177ea-ea66-494b-ac17-df4621d0b5d7",
   "metadata": {},
   "outputs": [
    {
     "name": "stdout",
     "output_type": "stream",
     "text": [
      "[[0 0 0]\n",
      " [0 0 0]\n",
      " [0 0 0]]\n"
     ]
    }
   ],
   "source": [
    "ar2 = np.zeros((3,3), dtype =int)\n",
    "print(ar2)"
   ]
  },
  {
   "cell_type": "code",
   "execution_count": 73,
   "id": "badaa77b-040b-4319-b0d2-73e0d7a8748b",
   "metadata": {},
   "outputs": [
    {
     "name": "stdout",
     "output_type": "stream",
     "text": [
      "[['1' '1' '1']\n",
      " ['1' '1' '1']\n",
      " ['1' '1' '1']]\n"
     ]
    }
   ],
   "source": [
    "ar3 = np.ones((3,3), dtype = str)\n",
    "print(ar3)"
   ]
  },
  {
   "cell_type": "code",
   "execution_count": 81,
   "id": "d41edeed-b549-47a0-9276-9955403d1a7b",
   "metadata": {},
   "outputs": [
    {
     "data": {
      "text/plain": [
       "array([[ 1,  0],\n",
       "       [ 9, 20]])"
      ]
     },
     "execution_count": 81,
     "metadata": {},
     "output_type": "execute_result"
    }
   ],
   "source": [
    "x = np.array([[1,2],[3,4]])\n",
    "y = np.array([[1,0],[3,5]])"
   ]
  },
  {
   "cell_type": "code",
   "execution_count": 83,
   "id": "f730d44b-fc1f-449a-94ab-239b051a8daf",
   "metadata": {},
   "outputs": [
    {
     "data": {
      "text/plain": [
       "array([[ 1,  0],\n",
       "       [ 9, 20]])"
      ]
     },
     "execution_count": 83,
     "metadata": {},
     "output_type": "execute_result"
    }
   ],
   "source": [
    "x * y"
   ]
  },
  {
   "cell_type": "code",
   "execution_count": 85,
   "id": "a2f21193-7ad7-4a2b-b074-408e32202ae7",
   "metadata": {},
   "outputs": [
    {
     "data": {
      "text/plain": [
       "array([[ 7, 10],\n",
       "       [15, 20]])"
      ]
     },
     "execution_count": 85,
     "metadata": {},
     "output_type": "execute_result"
    }
   ],
   "source": [
    "x @ y"
   ]
  },
  {
   "cell_type": "code",
   "execution_count": 87,
   "id": "e4d6f341-4899-4e32-a17d-57d3b7ec3043",
   "metadata": {},
   "outputs": [
    {
     "data": {
      "text/plain": [
       "array([[ 7, 10],\n",
       "       [15, 20]])"
      ]
     },
     "execution_count": 87,
     "metadata": {},
     "output_type": "execute_result"
    }
   ],
   "source": [
    "x.dot(y)"
   ]
  },
  {
   "cell_type": "code",
   "execution_count": 197,
   "id": "4b2a2921-254a-4307-8ef3-2664068e46a5",
   "metadata": {},
   "outputs": [
    {
     "name": "stdout",
     "output_type": "stream",
     "text": [
      "[['\\ufeffDay' 'Burger' 'Pizza' 'Coke' 'Fries' 'Cake']\n",
      " ['Monday' '25' '20' '35' '30' '10']\n",
      " ['Tuesday' '30' '18' '40' '28' '15']\n",
      " ['Wednesday' '28' '22' '38' '35' '12']\n",
      " ['Thursday' '35' '25' '45' '40' '18']\n",
      " ['Friday' '40' '30' '50' '42' '20']\n",
      " ['Saturday' '50' '40' '55' '50' '25']\n",
      " ['Sunday' '45' '38' '60' '55' '30']]\n"
     ]
    }
   ],
   "source": [
    "file = open(\"orders.csv\",\"r\")\n",
    "lst = [] \n",
    "for lines in file:\n",
    "    data = lines.replace(\",\",\" \").replace(\"\\n\", \" \").split()\n",
    "    lst.append(data)\n",
    "\n",
    "data = np.array(lst)\n",
    "file.close()\n",
    "print(data)"
   ]
  },
  {
   "cell_type": "code",
   "execution_count": 199,
   "id": "de1412bd-9a2b-4103-b814-ad2c313fa07c",
   "metadata": {},
   "outputs": [
    {
     "data": {
      "text/plain": [
       "array([['Monday', '25', '20', '35', '30', '10']], dtype='<U9')"
      ]
     },
     "execution_count": 199,
     "metadata": {},
     "output_type": "execute_result"
    }
   ],
   "source": [
    "data[data[:,0] == 'Monday']"
   ]
  },
  {
   "cell_type": "code",
   "execution_count": 207,
   "id": "aa79bfea-bfd5-4dbb-9de9-1b5b5270234e",
   "metadata": {},
   "outputs": [
    {
     "name": "stdout",
     "output_type": "stream",
     "text": [
      "1\n",
      "['Burger' '25' '30' '28' '35' '40' '50' '45']\n"
     ]
    }
   ],
   "source": [
    "index = np.where(data[0, :] == 'Burger')[0][0]\n",
    "print(index)\n",
    "burger = data[0:, index] \n",
    "print(burger)"
   ]
  },
  {
   "cell_type": "code",
   "execution_count": 223,
   "id": "405af1e1-c4ee-47ce-9dda-6e9251c61ef2",
   "metadata": {},
   "outputs": [
    {
     "data": {
      "text/plain": [
       "array([[2, 5, 7, 9, 7, 7],\n",
       "       [1, 2, 3, 4, 5, 6]])"
      ]
     },
     "execution_count": 223,
     "metadata": {},
     "output_type": "execute_result"
    }
   ],
   "source": [
    "a = ([[2,5,7,9,7,7],[1,2,3,4,5,6]])\n",
    "b = np.array(a)\n",
    "b"
   ]
  },
  {
   "cell_type": "code",
   "execution_count": 231,
   "id": "c0de0fd8-3eb6-42e9-9b0b-f67f1026d3d3",
   "metadata": {},
   "outputs": [
    {
     "data": {
      "text/plain": [
       "(6, 4)"
      ]
     },
     "execution_count": 231,
     "metadata": {},
     "output_type": "execute_result"
    }
   ],
   "source": [
    "c = np.array([[1,2,3,4],[5,6,7,8],[9,10,11,12],[2,5,6,7],[9,3,5,6],[3,4,5,6]])\n",
    "c.ndim\n",
    "c.shape"
   ]
  },
  {
   "cell_type": "code",
   "execution_count": 241,
   "id": "39d984ca-4519-4bef-ace9-d39bf4048f40",
   "metadata": {},
   "outputs": [
    {
     "data": {
      "text/plain": [
       "3"
      ]
     },
     "execution_count": 241,
     "metadata": {},
     "output_type": "execute_result"
    }
   ],
   "source": [
    "c = c.reshape(4,3,2)\n",
    "c.ndim"
   ]
  },
  {
   "cell_type": "code",
   "execution_count": 253,
   "id": "18cf3c3f-78b0-4f72-a46d-45ef8b1fcbdf",
   "metadata": {},
   "outputs": [
    {
     "data": {
      "text/plain": [
       "array([[[[ 0],\n",
       "         [ 1]],\n",
       "\n",
       "        [[ 2],\n",
       "         [ 3]]],\n",
       "\n",
       "\n",
       "       [[[ 4],\n",
       "         [ 5]],\n",
       "\n",
       "        [[ 6],\n",
       "         [ 7]]],\n",
       "\n",
       "\n",
       "       [[[ 8],\n",
       "         [ 9]],\n",
       "\n",
       "        [[10],\n",
       "         [11]]],\n",
       "\n",
       "\n",
       "       [[[12],\n",
       "         [13]],\n",
       "\n",
       "        [[14],\n",
       "         [15]]]])"
      ]
     },
     "execution_count": 253,
     "metadata": {},
     "output_type": "execute_result"
    }
   ],
   "source": [
    "b = np.arange(16)\n",
    "b.reshape(4,2,2)"
   ]
  },
  {
   "cell_type": "code",
   "execution_count": 260,
   "id": "6c80196c-a7c5-4199-a18a-f0b2c0fe62db",
   "metadata": {},
   "outputs": [],
   "source": [
    "a = np.array([1,2,3,4])\n",
    "b = np.array([1,6,8,9])"
   ]
  },
  {
   "cell_type": "code",
   "execution_count": 262,
   "id": "066fdd33-a5e1-4546-8567-84de54d1f682",
   "metadata": {},
   "outputs": [
    {
     "data": {
      "text/plain": [
       "array([ 2,  8, 11, 13])"
      ]
     },
     "execution_count": 262,
     "metadata": {},
     "output_type": "execute_result"
    }
   ],
   "source": [
    "np.add(a,b)"
   ]
  },
  {
   "cell_type": "code",
   "execution_count": 282,
   "id": "2310d384-a04c-43c3-83d9-88e03dd28ff6",
   "metadata": {},
   "outputs": [
    {
     "data": {
      "text/plain": [
       "array([[1, 2, 3],\n",
       "       [1, 1, 2],\n",
       "       [1, 1, 1]])"
      ]
     },
     "execution_count": 282,
     "metadata": {},
     "output_type": "execute_result"
    }
   ],
   "source": [
    "a = np.array([[1,2,3],[1,1,2],[1,1,1]])\n",
    "a"
   ]
  },
  {
   "cell_type": "code",
   "execution_count": 284,
   "id": "e80fcf57-1be1-4a2b-ae8c-d3b62359c767",
   "metadata": {},
   "outputs": [
    {
     "data": {
      "text/plain": [
       "1.4444444444444444"
      ]
     },
     "execution_count": 284,
     "metadata": {},
     "output_type": "execute_result"
    }
   ],
   "source": [
    "np.mean(a)"
   ]
  },
  {
   "cell_type": "code",
   "execution_count": 294,
   "id": "2fab3d9d-128f-4e1b-bfc1-3dc52e651755",
   "metadata": {},
   "outputs": [
    {
     "data": {
      "text/plain": [
       "array([3, 4, 6])"
      ]
     },
     "execution_count": 294,
     "metadata": {},
     "output_type": "execute_result"
    }
   ],
   "source": [
    "a.sum(axis = 0)"
   ]
  },
  {
   "cell_type": "code",
   "execution_count": 51,
   "id": "d90be563-b22a-491c-92b2-5b6262c827ef",
   "metadata": {},
   "outputs": [],
   "source": [
    "ar1 = np.array([1,2,3,4])\n",
    "ar2 = np.array([1,2,1,4])"
   ]
  },
  {
   "cell_type": "code",
   "execution_count": 53,
   "id": "d8146aa9-cdd1-43f7-b1bb-409309024a3a",
   "metadata": {},
   "outputs": [
    {
     "data": {
      "text/plain": [
       "array([2, 4, 4, 8])"
      ]
     },
     "execution_count": 53,
     "metadata": {},
     "output_type": "execute_result"
    }
   ],
   "source": [
    "np.add(ar1,ar2)"
   ]
  },
  {
   "cell_type": "code",
   "execution_count": 55,
   "id": "120a7b0b-aefa-4a4b-8529-7059d7ac0756",
   "metadata": {},
   "outputs": [
    {
     "data": {
      "text/plain": [
       "array([2, 4, 6, 8])"
      ]
     },
     "execution_count": 55,
     "metadata": {},
     "output_type": "execute_result"
    }
   ],
   "source": [
    "ar1*2"
   ]
  },
  {
   "cell_type": "code",
   "execution_count": 57,
   "id": "c47b8476-ef2a-46e3-897d-4cd360a62363",
   "metadata": {},
   "outputs": [],
   "source": [
    "ar3 = np.zeros((4,4), dtype = int)"
   ]
  },
  {
   "cell_type": "code",
   "execution_count": 59,
   "id": "d7bce7f7-40a3-4cbd-87c3-bdb91b4752c4",
   "metadata": {},
   "outputs": [
    {
     "name": "stdout",
     "output_type": "stream",
     "text": [
      "[[1 0 0 0]\n",
      " [0 1 0 0]\n",
      " [0 0 1 0]\n",
      " [0 0 0 1]]\n"
     ]
    }
   ],
   "source": [
    "for i in range(4):\n",
    "    for j in range(4):\n",
    "        if i == j: \n",
    "            ar3[i][j] = 1\n",
    "print(ar3)"
   ]
  },
  {
   "cell_type": "code",
   "execution_count": 61,
   "id": "a224e4f1-3b27-4db9-9bf2-d9db5a89eae7",
   "metadata": {},
   "outputs": [
    {
     "data": {
      "text/plain": [
       "2"
      ]
     },
     "execution_count": 61,
     "metadata": {},
     "output_type": "execute_result"
    }
   ],
   "source": [
    "x = 2.34\n",
    "y = int(x)\n",
    "y"
   ]
  },
  {
   "cell_type": "code",
   "execution_count": 63,
   "id": "e3779bd8-481d-4524-a287-27791fd932e1",
   "metadata": {},
   "outputs": [
    {
     "name": "stdout",
     "output_type": "stream",
     "text": [
      "0\n",
      "1\n",
      "3\n",
      "[0, 1, 3]\n"
     ]
    }
   ],
   "source": [
    "lis = []\n",
    "for i in range(4):\n",
    "    if ar1[i] == ar2[i]:\n",
    "        print(i)\n",
    "        lis.append(i)\n",
    "print(lis)"
   ]
  },
  {
   "cell_type": "code",
   "execution_count": 67,
   "id": "9881810f-9542-4dd3-85f8-79399308db70",
   "metadata": {},
   "outputs": [
    {
     "data": {
      "text/plain": [
       "array([[1, 1, 1],\n",
       "       [1, 1, 1],\n",
       "       [1, 1, 1]])"
      ]
     },
     "execution_count": 67,
     "metadata": {},
     "output_type": "execute_result"
    }
   ],
   "source": [
    "ar4 = np.ones((3,3), dtype = int)\n",
    "ar4"
   ]
  },
  {
   "cell_type": "code",
   "execution_count": 69,
   "id": "b029df03-8776-4b1e-8b83-5fe7b586cf68",
   "metadata": {},
   "outputs": [
    {
     "name": "stdout",
     "output_type": "stream",
     "text": [
      "[ 0 -1  2 -1  4 -1  6 -1  8 -1]\n"
     ]
    }
   ],
   "source": [
    "exArray = np.array([0,1,2,3,4,5,6,7,8,9])\n",
    "for i in range(10):\n",
    "    if exArray[i] % 2 != 0: \n",
    "        exArray[i] = -1 \n",
    "print(exArray)"
   ]
  },
  {
   "cell_type": "code",
   "execution_count": 73,
   "id": "0891dc00-6d81-4503-8243-60a6f5521b19",
   "metadata": {},
   "outputs": [
    {
     "name": "stdout",
     "output_type": "stream",
     "text": [
      "[1, 3, 5, 7]\n"
     ]
    }
   ],
   "source": [
    "ls = []\n",
    "a = np.array([1,2,3,2,3,4,3,4,5,6])\n",
    "b = np.array([7,2,10,2,7,4,9,4,9,8])\n",
    "for i in range(10):\n",
    "    if a[i] == b[i]:\n",
    "        ls.append(i)\n",
    "print(ls)"
   ]
  },
  {
   "cell_type": "code",
   "execution_count": 89,
   "id": "ad2a7daf-b685-44e3-9d87-851be005d5b0",
   "metadata": {},
   "outputs": [
    {
     "data": {
      "text/plain": [
       "array([ 7, 10,  4])"
      ]
     },
     "execution_count": 89,
     "metadata": {},
     "output_type": "execute_result"
    }
   ],
   "source": [
    "a = np.array([1,3,7,10,2,3,4])\n",
    "b = np.array([2,7,7,10,3,2,4])\n",
    "\n",
    "a[a%2 == 1]\n",
    "a[a>3]"
   ]
  },
  {
   "cell_type": "code",
   "execution_count": 91,
   "id": "9bae39d6-b166-4fe2-ac81-5042a8b32726",
   "metadata": {},
   "outputs": [
    {
     "data": {
      "text/plain": [
       "(array([2, 3, 6]),)"
      ]
     },
     "execution_count": 91,
     "metadata": {},
     "output_type": "execute_result"
    }
   ],
   "source": [
    "np.where(a == b)"
   ]
  },
  {
   "cell_type": "code",
   "execution_count": 117,
   "id": "61e2c05f-0f56-407d-bdcf-374f845c19c7",
   "metadata": {},
   "outputs": [],
   "source": [
    "a = np.arange(24)"
   ]
  },
  {
   "cell_type": "code",
   "execution_count": 147,
   "id": "61ccafb5-d2f4-4b4b-8469-8217a59b954d",
   "metadata": {},
   "outputs": [],
   "source": [
    "a = a.reshape(6,4)"
   ]
  },
  {
   "cell_type": "code",
   "execution_count": 149,
   "id": "19893940-6db3-4e31-8278-f2bd4704af7d",
   "metadata": {},
   "outputs": [
    {
     "data": {
      "text/plain": [
       "array([[ 0,  1,  2,  3],\n",
       "       [ 4,  5,  6,  7],\n",
       "       [ 8,  9, 10, 11],\n",
       "       [12, 13, 14, 15],\n",
       "       [16, 17, 18, 19],\n",
       "       [20, 21, 22, 23]])"
      ]
     },
     "execution_count": 149,
     "metadata": {},
     "output_type": "execute_result"
    }
   ],
   "source": [
    "a.resize(6,4)\n",
    "a"
   ]
  },
  {
   "cell_type": "code",
   "execution_count": 183,
   "id": "6fbd0d01-f10d-48c0-9e5b-280413c92d42",
   "metadata": {},
   "outputs": [],
   "source": [
    "sleephr = np.random.randint(5,14,30)\n",
    "studyhr = np.random.randint(0,4,30)\n",
    "marks = np.random.randint(60,101,30)\n",
    "attendance = np.random.randint(70,101,30)"
   ]
  },
  {
   "cell_type": "code",
   "execution_count": 205,
   "id": "0cfb8bbd-27fd-4ad4-baee-914345a9eaea",
   "metadata": {},
   "outputs": [
    {
     "name": "stdout",
     "output_type": "stream",
     "text": [
      "[[  9   0  88  83]\n",
      " [  7   0  76  80]\n",
      " [  9   3  66  84]\n",
      " [  9   0  70  98]\n",
      " [  6   0  60  78]\n",
      " [  8   1  73 100]\n",
      " [ 12   2  77  77]\n",
      " [ 11   3  63  76]\n",
      " [ 11   1  88  71]\n",
      " [  9   2  98  93]\n",
      " [  9   3 100  89]\n",
      " [ 11   3  93  73]\n",
      " [ 12   1  97  86]\n",
      " [  6   3  80  76]\n",
      " [  5   3  60  82]\n",
      " [ 13   0  89  72]\n",
      " [ 12   0  90  82]\n",
      " [ 10   2  95  84]\n",
      " [  9   0  78  94]\n",
      " [ 13   1  92  90]\n",
      " [ 13   2  89  94]\n",
      " [ 12   2  88  79]\n",
      " [ 12   2  72  88]\n",
      " [  6   3  98  77]\n",
      " [ 13   1  70  78]\n",
      " [ 11   1  85  79]\n",
      " [  6   0  85  86]\n",
      " [ 12   0  92  96]\n",
      " [  9   3  93  80]\n",
      " [ 12   1  79  72]]\n",
      "[ 9.9         1.43333333 82.8        83.23333333]\n"
     ]
    }
   ],
   "source": [
    "x = np.array(['sleephr', 'studyhr', 'marks', 'attendance'])\n",
    "z = np.column_stack((sleephr,studyhr, marks, attendance))\n",
    "print(z)\n",
    "print(z.mean(axis = 0))"
   ]
  },
  {
   "cell_type": "code",
   "execution_count": 219,
   "id": "b6620e05-c177-48d3-9c6c-db803b1adb79",
   "metadata": {},
   "outputs": [
    {
     "data": {
      "text/plain": [
       "array([[ 9,  0],\n",
       "       [ 7,  0],\n",
       "       [ 9,  3],\n",
       "       [ 9,  0],\n",
       "       [ 6,  0],\n",
       "       [ 8,  1],\n",
       "       [12,  2],\n",
       "       [11,  3],\n",
       "       [11,  1],\n",
       "       [ 9,  2],\n",
       "       [ 9,  3],\n",
       "       [11,  3],\n",
       "       [12,  1],\n",
       "       [ 6,  3],\n",
       "       [ 5,  3],\n",
       "       [13,  0],\n",
       "       [12,  0],\n",
       "       [10,  2],\n",
       "       [ 9,  0],\n",
       "       [13,  1],\n",
       "       [13,  2],\n",
       "       [12,  2],\n",
       "       [12,  2],\n",
       "       [ 6,  3],\n",
       "       [13,  1],\n",
       "       [11,  1],\n",
       "       [ 6,  0],\n",
       "       [12,  0],\n",
       "       [ 9,  3],\n",
       "       [12,  1]])"
      ]
     },
     "execution_count": 219,
     "metadata": {},
     "output_type": "execute_result"
    }
   ],
   "source": [
    "z[:,:2]"
   ]
  },
  {
   "cell_type": "code",
   "execution_count": 221,
   "id": "6d5bfb75-64a7-44d3-9abd-361905c0cbcb",
   "metadata": {},
   "outputs": [
    {
     "data": {
      "text/plain": [
       "array([[  9,  83],\n",
       "       [  7,  80],\n",
       "       [  9,  84],\n",
       "       [  9,  98],\n",
       "       [  6,  78],\n",
       "       [  8, 100],\n",
       "       [ 12,  77],\n",
       "       [ 11,  76],\n",
       "       [ 11,  71],\n",
       "       [  9,  93],\n",
       "       [  9,  89],\n",
       "       [ 11,  73],\n",
       "       [ 12,  86],\n",
       "       [  6,  76],\n",
       "       [  5,  82],\n",
       "       [ 13,  72],\n",
       "       [ 12,  82],\n",
       "       [ 10,  84],\n",
       "       [  9,  94],\n",
       "       [ 13,  90],\n",
       "       [ 13,  94],\n",
       "       [ 12,  79],\n",
       "       [ 12,  88],\n",
       "       [  6,  77],\n",
       "       [ 13,  78],\n",
       "       [ 11,  79],\n",
       "       [  6,  86],\n",
       "       [ 12,  96],\n",
       "       [  9,  80],\n",
       "       [ 12,  72]])"
      ]
     },
     "execution_count": 221,
     "metadata": {},
     "output_type": "execute_result"
    }
   ],
   "source": [
    "z[:,[0,3]]"
   ]
  },
  {
   "cell_type": "code",
   "execution_count": 233,
   "id": "3d89b99b-e4e1-482e-8942-9f4bcdf1b793",
   "metadata": {},
   "outputs": [
    {
     "name": "stdout",
     "output_type": "stream",
     "text": [
      "[[ 0  1  2  3]\n",
      " [ 4  5  6  7]\n",
      " [ 8  9 10 11]\n",
      " [12 13 14 15]\n",
      " [16 17 18 19]\n",
      " [20 21 22 23]]\n",
      "[[ 0  1  2  3  4  5]\n",
      " [ 6  7  8  9 10 11]\n",
      " [12 13 14 15 16 17]\n",
      " [18 19 20 21 22 23]]\n"
     ]
    }
   ],
   "source": [
    "p = np.arange(24)\n",
    "p.resize(6,4)\n",
    "q = np.arange(24)\n",
    "q.resize(4,6)\n",
    "print(p)\n",
    "print(q)"
   ]
  },
  {
   "cell_type": "code",
   "execution_count": 235,
   "id": "6e8d2c57-985a-4dca-a66a-4109ac023fbf",
   "metadata": {},
   "outputs": [
    {
     "data": {
      "text/plain": [
       "array([[  84,   90,   96,  102,  108,  114],\n",
       "       [ 228,  250,  272,  294,  316,  338],\n",
       "       [ 372,  410,  448,  486,  524,  562],\n",
       "       [ 516,  570,  624,  678,  732,  786],\n",
       "       [ 660,  730,  800,  870,  940, 1010],\n",
       "       [ 804,  890,  976, 1062, 1148, 1234]])"
      ]
     },
     "execution_count": 235,
     "metadata": {},
     "output_type": "execute_result"
    }
   ],
   "source": [
    "p @ q"
   ]
  },
  {
   "cell_type": "code",
   "execution_count": 244,
   "id": "f27dad1b-2953-46c8-ad92-4c73691946c4",
   "metadata": {},
   "outputs": [
    {
     "data": {
      "text/plain": [
       "array([0., 0., 0.])"
      ]
     },
     "execution_count": 244,
     "metadata": {},
     "output_type": "execute_result"
    }
   ],
   "source": [
    "np.zeros(3)"
   ]
  },
  {
   "cell_type": "code",
   "execution_count": 246,
   "id": "05235f35-3503-433f-8644-13935675e80f",
   "metadata": {},
   "outputs": [
    {
     "data": {
      "text/plain": [
       "array([[1., 0., 0.],\n",
       "       [0., 1., 0.],\n",
       "       [0., 0., 1.]])"
      ]
     },
     "execution_count": 246,
     "metadata": {},
     "output_type": "execute_result"
    }
   ],
   "source": [
    "np.eye(3,3)"
   ]
  },
  {
   "cell_type": "code",
   "execution_count": 256,
   "id": "a1da2b1e-12c5-422c-94c4-64c260d4d02c",
   "metadata": {},
   "outputs": [
    {
     "data": {
      "text/plain": [
       "array([1, 2, 3, 4, 5])"
      ]
     },
     "execution_count": 256,
     "metadata": {},
     "output_type": "execute_result"
    }
   ],
   "source": [
    "a = np.array([1,3,2,4])\n",
    "b = np.array([2,2,3,5])\n",
    "np.unique(np.concatenate((a,b)))\n"
   ]
  },
  {
   "cell_type": "code",
   "execution_count": null,
   "id": "188ee2e6-0547-4b8b-a889-610baa4a9d77",
   "metadata": {},
   "outputs": [],
   "source": []
  }
 ],
 "metadata": {
  "kernelspec": {
   "display_name": "Python [conda env:base] *",
   "language": "python",
   "name": "conda-base-py"
  },
  "language_info": {
   "codemirror_mode": {
    "name": "ipython",
    "version": 3
   },
   "file_extension": ".py",
   "mimetype": "text/x-python",
   "name": "python",
   "nbconvert_exporter": "python",
   "pygments_lexer": "ipython3",
   "version": "3.12.7"
  }
 },
 "nbformat": 4,
 "nbformat_minor": 5
}
